{
 "cells": [
  {
   "cell_type": "markdown",
   "metadata": {},
   "source": [
    "# Dye pattern extraction from soil profile images\n",
    "\n",
    "This script illustrates the working principle of the image processing routine for dye pattern extraction from soil profile images derived with Brillinat Blue infiltration experiments. It includes a rectification of the raw image, binarisation into stained and usntained pixels and labelling of the extracted dye patches.\n",
    "\n",
    "\n",
    "The notebook and accompanying image processing routine are both given under GNU GPLv3 without any liability. (cc) a.reck@tu-berlin.de 2020"
   ]
  },
  {
   "cell_type": "markdown",
   "metadata": {},
   "source": [
    "### Preface"
   ]
  },
  {
   "cell_type": "markdown",
   "metadata": {},
   "source": [
    "#### Load the required modules"
   ]
  },
  {
   "cell_type": "code",
   "execution_count": null,
   "metadata": {},
   "outputs": [],
   "source": [
    "%matplotlib notebook\n",
    "\n",
    "import seaborn as sns\n",
    "from skimage.morphology import disk"
   ]
  },
  {
   "cell_type": "markdown",
   "metadata": {},
   "source": [
    "#### Import the image processing routine\n",
    "Please make sure to have cv2, os, pandas, tkinter and skimage installed. They will be imported whithin the image processing routine."
   ]
  },
  {
   "cell_type": "code",
   "execution_count": null,
   "metadata": {},
   "outputs": [],
   "source": [
    "import Image_classification as imc"
   ]
  },
  {
   "cell_type": "markdown",
   "metadata": {},
   "source": [
    "#### Some style settings for plotting"
   ]
  },
  {
   "cell_type": "code",
   "execution_count": null,
   "metadata": {},
   "outputs": [],
   "source": [
    "sns.set(style = \"whitegrid\", palette = \"deep\", font_scale = 0.8)"
   ]
  },
  {
   "cell_type": "markdown",
   "metadata": {},
   "source": [
    "### Perform the image processing"
   ]
  },
  {
   "cell_type": "markdown",
   "metadata": {},
   "source": [
    "##### Create the object class"
   ]
  },
  {
   "cell_type": "code",
   "execution_count": null,
   "metadata": {},
   "outputs": [],
   "source": [
    "image = imc.BuildB()"
   ]
  },
  {
   "cell_type": "markdown",
   "metadata": {},
   "source": [
    "##### Load the image \n",
    "If the tkinter GUI import is not working, set tk = False and import the image manually by setting file = \"/path_to_file...\""
   ]
  },
  {
   "cell_type": "code",
   "execution_count": null,
   "metadata": {},
   "outputs": [],
   "source": [
    "image.open_file(tk = True, file = None)"
   ]
  },
  {
   "cell_type": "markdown",
   "metadata": {},
   "source": [
    "##### Plot the image and select the points for rectification\n",
    "The points have to be set in the order:\n",
    "    1. Upper left   (UL)\n",
    "    2. Upper right  (UR)\n",
    "    3. Bottom left  (BL)\n",
    "    4. Bottom right (BR)\n",
    "After the fourth point is defined, a rectangle will ilustrates the extent used for rectification"
   ]
  },
  {
   "cell_type": "code",
   "execution_count": null,
   "metadata": {},
   "outputs": [],
   "source": [
    "image.plot_points(figure_size = [5,5])"
   ]
  },
  {
   "cell_type": "markdown",
   "metadata": {},
   "source": [
    "##### Image rectification\n",
    "Rectification is performed on the previously defined points and the output image will have the defined resolution."
   ]
  },
  {
   "cell_type": "code",
   "execution_count": null,
   "metadata": {},
   "outputs": [],
   "source": [
    "image.rectify(resolution = [1000, 1000], figure_size=[5,5]) "
   ]
  },
  {
   "cell_type": "markdown",
   "metadata": {},
   "source": [
    "##### Detection and extraction of dye stained patterns\n",
    "Dye pattern extraction using Otsu's threshold and a downstream morphological opening to remove patches smaller the defined structuring element. Optionally, a given width of the edges can be removed."
   ]
  },
  {
   "cell_type": "code",
   "execution_count": null,
   "metadata": {},
   "outputs": [],
   "source": [
    "structure = disk(4) # Disk-type structuring element with a radius of 4 px (== 4 mm in diamter in this case)"
   ]
  },
  {
   "cell_type": "code",
   "execution_count": null,
   "metadata": {},
   "outputs": [],
   "source": [
    "image.label_patches(adj_threshold1 = 0, structure = structure, clip_borders = True, figure_size = [10,7], \n",
    "                    buffer = [50, 50, 50, 50]) # buffer definition starts at the left edge and goes clockwise"
   ]
  },
  {
   "cell_type": "markdown",
   "metadata": {},
   "source": [
    "##### Save the rectified image, labeled patches and processing defaults"
   ]
  },
  {
   "cell_type": "code",
   "execution_count": null,
   "metadata": {},
   "outputs": [],
   "source": [
    "image.save_rectified_image() # save the rectified image as .png"
   ]
  },
  {
   "cell_type": "code",
   "execution_count": null,
   "metadata": {},
   "outputs": [],
   "source": [
    "image.save_labeled_patches() # save the extracted and labelled dye pattterns as .csv"
   ]
  },
  {
   "cell_type": "code",
   "execution_count": null,
   "metadata": {},
   "outputs": [],
   "source": [
    "image.save_object() # save the defaults of image processing like points for rectification and Otsu's threshold\n",
    "                    # as .pickle"
   ]
  }
 ],
 "metadata": {
  "kernelspec": {
   "display_name": "Python 3",
   "language": "python",
   "name": "python3"
  },
  "language_info": {
   "codemirror_mode": {
    "name": "ipython",
    "version": 3
   },
   "file_extension": ".py",
   "mimetype": "text/x-python",
   "name": "python",
   "nbconvert_exporter": "python",
   "pygments_lexer": "ipython3",
   "version": "3.7.2"
  }
 },
 "nbformat": 4,
 "nbformat_minor": 2
}
